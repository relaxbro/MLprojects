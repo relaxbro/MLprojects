{
 "cells": [
  {
   "cell_type": "code",
   "execution_count": 1,
   "metadata": {
    "collapsed": false
   },
   "outputs": [
    {
     "name": "stderr",
     "output_type": "stream",
     "text": [
      "/usr/local/lib/python2.7/dist-packages/matplotlib/__init__.py:913: UserWarning: axes.color_cycle is deprecated and replaced with axes.prop_cycle; please use the latter.\n",
      "  warnings.warn(self.msg_depr % (key, alt_key))\n"
     ]
    },
    {
     "name": "stdout",
     "output_type": "stream",
     "text": [
      "keras backend:  tensorflow\n",
      "keras version:  2.0.0\n",
      "tensorflow version:  1.0.1\n"
     ]
    },
    {
     "name": "stderr",
     "output_type": "stream",
     "text": [
      "Using TensorFlow backend.\n"
     ]
    }
   ],
   "source": [
    "import os, sys, PIL\n",
    "import numpy as np\n",
    "np.random.seed(1234)\n",
    "import pandas as pd\n",
    "import matplotlib.pyplot as plt\n",
    "import seaborn as sns\n",
    "\n",
    "%matplotlib inline\n",
    "\n",
    "import tensorflow as tf\n",
    "import keras\n",
    "from keras import backend as K\n",
    "print 'keras backend: ', K._BACKEND\n",
    "print 'keras version: ', keras.__version__\n",
    "print 'tensorflow version: ', tf.__version__\n",
    "\n",
    "sess = tf.Session()\n",
    "K.set_session(sess)\n",
    "# fix input size in model for tensorflow\n",
    "K.set_image_dim_ordering('th')"
   ]
  },
  {
   "cell_type": "code",
   "execution_count": 2,
   "metadata": {
    "collapsed": false
   },
   "outputs": [],
   "source": [
    "from keras.models import Sequential\n",
    "from keras.layers import Dense, Dropout, Activation, Flatten, BatchNormalization\n",
    "from keras.layers import Conv2D, MaxPooling2D\n",
    "from keras.utils import np_utils\n",
    "from keras.callbacks import LearningRateScheduler\n",
    "from keras.preprocessing.image import ImageDataGenerator"
   ]
  },
  {
   "cell_type": "code",
   "execution_count": 3,
   "metadata": {
    "collapsed": false
   },
   "outputs": [
    {
     "name": "stdout",
     "output_type": "stream",
     "text": [
      "(42000, 10)\n",
      "(42000, 1, 28, 28)\n",
      "(28000, 1, 28, 28)\n"
     ]
    }
   ],
   "source": [
    "TRAINFILE = 'data/train.csv'\n",
    "TESTFILE = 'data/test.csv'\n",
    "SUBMISSION = 'submission.csv'\n",
    "\n",
    "train = pd.read_csv(TRAINFILE)\n",
    "Xtrain = train.ix[:,1:].values.astype('float32')\n",
    "ytrain = train.ix[:,0].values.astype('int32')\n",
    "n_train = Xtrain.shape[0]\n",
    "\n",
    "Xtrain = Xtrain.reshape(n_train, 1, 28, 28) / 255.0\n",
    "ytrain = np_utils.to_categorical(ytrain)\n",
    "num_classes = ytrain.shape[1]\n",
    "\n",
    "print ytrain.shape\n",
    "print Xtrain.shape\n",
    "\n",
    "test = pd.read_csv(TESTFILE)\n",
    "Xtest = test.ix[:,:].values.astype('float32')\n",
    "n_test = Xtest.shape[0]\n",
    "Xtest = Xtest.reshape(n_test, 1, 28, 28) / 255.0\n",
    "\n",
    "print Xtest.shape"
   ]
  },
  {
   "cell_type": "code",
   "execution_count": 11,
   "metadata": {
    "collapsed": true
   },
   "outputs": [],
   "source": [
    "def createModel(nC):\n",
    "    model = Sequential()\n",
    "    model.add(Conv2D(30, (5, 5), input_shape=(1, 28, 28), activation='relu'))\n",
    "    model.add(MaxPooling2D(pool_size=(2,2)))\n",
    "    model.add(Conv2D(15, (3,3), activation='relu'))\n",
    "    model.add(MaxPooling2D(pool_size=(2,2)))\n",
    "    model.add(Dropout(0.25))\n",
    "    model.add(Flatten())\n",
    "    model.add(Dense(32*196, activation='relu'))\n",
    "    model.add(Dropout(0.25))\n",
    "    model.add(Dense(128, activation='relu'))\n",
    "    model.add(Dense(nC))\n",
    "    model.add(Activation('softmax'))\n",
    "    \n",
    "    model.compile(loss='categorical_crossentropy', optimizer='adadelta', metrics=['accuracy'])\n",
    "    return model"
   ]
  },
  {
   "cell_type": "code",
   "execution_count": 12,
   "metadata": {
    "collapsed": false
   },
   "outputs": [
    {
     "name": "stdout",
     "output_type": "stream",
     "text": [
      "Train on 37800 samples, validate on 4200 samples\n",
      "Epoch 1/20\n",
      "37800/37800 [==============================] - 125s - loss: 0.3545 - acc: 0.8878 - val_loss: 0.1290 - val_acc: 0.9550\n",
      "Epoch 2/20\n",
      "37800/37800 [==============================] - 122s - loss: 0.0979 - acc: 0.9692 - val_loss: 0.0809 - val_acc: 0.9736\n",
      "Epoch 3/20\n",
      "37800/37800 [==============================] - 119s - loss: 0.0731 - acc: 0.9775 - val_loss: 0.0471 - val_acc: 0.9836\n",
      "Epoch 4/20\n",
      "37800/37800 [==============================] - 121s - loss: 0.0591 - acc: 0.9805 - val_loss: 0.0376 - val_acc: 0.9864\n",
      "Epoch 5/20\n",
      "37800/37800 [==============================] - 119s - loss: 0.0502 - acc: 0.9842 - val_loss: 0.0519 - val_acc: 0.9833\n",
      "Epoch 6/20\n",
      "37800/37800 [==============================] - 115s - loss: 0.0459 - acc: 0.9853 - val_loss: 0.0424 - val_acc: 0.9852\n",
      "Epoch 7/20\n",
      "37800/37800 [==============================] - 110s - loss: 0.0411 - acc: 0.9871 - val_loss: 0.0298 - val_acc: 0.9893\n",
      "Epoch 8/20\n",
      "37800/37800 [==============================] - 109s - loss: 0.0377 - acc: 0.9880 - val_loss: 0.0366 - val_acc: 0.9874\n",
      "Epoch 9/20\n",
      "37800/37800 [==============================] - 115s - loss: 0.0329 - acc: 0.9893 - val_loss: 0.0245 - val_acc: 0.9914\n",
      "Epoch 10/20\n",
      "37800/37800 [==============================] - 115s - loss: 0.0293 - acc: 0.9906 - val_loss: 0.0219 - val_acc: 0.9917\n",
      "Epoch 11/20\n",
      "37800/37800 [==============================] - 113s - loss: 0.0288 - acc: 0.9903 - val_loss: 0.0233 - val_acc: 0.9914\n",
      "Epoch 12/20\n",
      "37800/37800 [==============================] - 108s - loss: 0.0276 - acc: 0.9908 - val_loss: 0.0299 - val_acc: 0.9898\n",
      "Epoch 13/20\n",
      "37800/37800 [==============================] - 113s - loss: 0.0251 - acc: 0.9919 - val_loss: 0.0216 - val_acc: 0.9921\n",
      "Epoch 14/20\n",
      "37800/37800 [==============================] - 112s - loss: 0.0241 - acc: 0.9921 - val_loss: 0.0243 - val_acc: 0.9905\n",
      "Epoch 15/20\n",
      "37800/37800 [==============================] - 113s - loss: 0.0236 - acc: 0.9926 - val_loss: 0.0248 - val_acc: 0.9926\n",
      "Epoch 16/20\n",
      "37800/37800 [==============================] - 116s - loss: 0.0218 - acc: 0.9926 - val_loss: 0.0226 - val_acc: 0.9919\n",
      "Epoch 17/20\n",
      "37800/37800 [==============================] - 112s - loss: 0.0193 - acc: 0.9940 - val_loss: 0.0207 - val_acc: 0.9933\n",
      "Epoch 18/20\n",
      "37800/37800 [==============================] - 110s - loss: 0.0190 - acc: 0.9939 - val_loss: 0.0259 - val_acc: 0.9900\n",
      "Epoch 19/20\n",
      "37800/37800 [==============================] - 112s - loss: 0.0179 - acc: 0.9939 - val_loss: 0.0216 - val_acc: 0.9929\n",
      "Epoch 20/20\n",
      "37800/37800 [==============================] - 114s - loss: 0.0173 - acc: 0.9943 - val_loss: 0.0198 - val_acc: 0.9921\n"
     ]
    }
   ],
   "source": [
    "model = createModel(num_classes)\n",
    "history = model.fit(Xtrain, ytrain, validation_split=0.1, epochs=20, batch_size=128)"
   ]
  },
  {
   "cell_type": "code",
   "execution_count": 13,
   "metadata": {
    "collapsed": false
   },
   "outputs": [
    {
     "data": {
      "image/png": "[encoded data removed]",
      "text/plain": [
       "<matplotlib.figure.Figure at 0x7f66707c0510>"
      ]
     },
     "metadata": {},
     "output_type": "display_data"
    }
   ],
   "source": [
    "plt.figure()\n",
    "plt.plot(history.history['loss'], label='train')\n",
    "plt.plot(history.history['val_loss'], label='val')\n",
    "plt.yscale('log')\n",
    "plt.title('Loss history')\n",
    "plt.xlabel('Epoch')\n",
    "plt.ylabel('Loss')\n",
    "plt.legend(loc='best')\n",
    "plt.show()"
   ]
  },
  {
   "cell_type": "code",
   "execution_count": 14,
   "metadata": {
    "collapsed": true
   },
   "outputs": [],
   "source": [
    "yhat = model.predict(Xtest, batch_size=128)\n",
    "ypred = np.argmax(yhat, axis=1)"
   ]
  },
  {
   "cell_type": "code",
   "execution_count": 15,
   "metadata": {
    "collapsed": true
   },
   "outputs": [],
   "source": [
    "with open(SUBMISSION, 'w') as f:\n",
    "    f.write('ImageId,Label\\n')\n",
    "    for i in xrange(0, n_test):\n",
    "        f.write('%d,%d\\n' %(i+1, ypred[i]))"
   ]
  },
  {
   "cell_type": "code",
   "execution_count": 16,
   "metadata": {
    "collapsed": true
   },
   "outputs": [],
   "source": [
    "#model.save_weights('mninst.0.99229.hdf')"
   ]
  },
  {
   "cell_type": "code",
   "execution_count": null,
   "metadata": {
    "collapsed": true
   },
   "outputs": [],
   "source": []
  }
 ],
 "metadata": {
  "kernelspec": {
   "display_name": "Python 2",
   "language": "python",
   "name": "python2"
  },
  "language_info": {
   "codemirror_mode": {
    "name": "ipython",
    "version": 2
   },
   "file_extension": ".py",
   "mimetype": "text/x-python",
   "name": "python",
   "nbconvert_exporter": "python",
   "pygments_lexer": "ipython2",
   "version": "2.7.12+"
  }
 },
 "nbformat": 4,
 "nbformat_minor": 1
}
