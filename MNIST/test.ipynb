{
 "cells": [
  {
   "cell_type": "code",
   "execution_count": 1,
   "metadata": {
    "collapsed": false
   },
   "outputs": [
    {
     "name": "stderr",
     "output_type": "stream",
     "text": [
      "/usr/local/lib/python2.7/dist-packages/matplotlib/__init__.py:913: UserWarning: axes.color_cycle is deprecated and replaced with axes.prop_cycle; please use the latter.\n",
      "  warnings.warn(self.msg_depr % (key, alt_key))\n"
     ]
    },
    {
     "name": "stdout",
     "output_type": "stream",
     "text": [
      "keras backend:  tensorflow\n",
      "keras version:  2.0.0\n",
      "tensorflow version:  1.0.1\n"
     ]
    },
    {
     "name": "stderr",
     "output_type": "stream",
     "text": [
      "Using TensorFlow backend.\n"
     ]
    }
   ],
   "source": [
    "import os, sys, PIL\n",
    "import numpy as np\n",
    "np.random.seed(1234)\n",
    "import pandas as pd\n",
    "import matplotlib.pyplot as plt\n",
    "import seaborn as sns\n",
    "\n",
    "%matplotlib inline\n",
    "\n",
    "import tensorflow as tf\n",
    "import keras\n",
    "from keras import backend as K\n",
    "print 'keras backend: ', K._BACKEND\n",
    "print 'keras version: ', keras.__version__\n",
    "print 'tensorflow version: ', tf.__version__"
   ]
  },
  {
   "cell_type": "code",
   "execution_count": 2,
   "metadata": {
    "collapsed": false
   },
   "outputs": [],
   "source": [
    "sess = tf.Session()\n",
    "K.set_session(sess)\n",
    "# fix input size in model for tensorflow\n",
    "K.set_image_dim_ordering('th')"
   ]
  },
  {
   "cell_type": "code",
   "execution_count": 3,
   "metadata": {
    "collapsed": true
   },
   "outputs": [],
   "source": [
    "from keras.datasets import mnist\n",
    "from keras.models import Sequential\n",
    "from keras.layers.core import Dense, Dropout, Activation, Flatten\n",
    "from keras.layers.convolutional import Conv2D, MaxPooling2D\n",
    "from keras.utils import np_utils"
   ]
  },
  {
   "cell_type": "code",
   "execution_count": 4,
   "metadata": {
    "collapsed": false
   },
   "outputs": [
    {
     "name": "stdout",
     "output_type": "stream",
     "text": [
      "Xtrain shape: (60000, 1, 28, 28)\n"
     ]
    }
   ],
   "source": [
    "(Xtrain, ytrain), (Xtest, ytest) = mnist.load_data()\n",
    "Xtrain = Xtrain.reshape(Xtrain.shape[0], 1, Xtrain.shape[1], Xtrain.shape[2]).astype('float32') / 255\n",
    "Xtest = Xtest.reshape(Xtest.shape[0], 1, Xtest.shape[1], Xtest.shape[2]).astype('float32') / 255\n",
    "ytrain = np_utils.to_categorical(ytrain)\n",
    "ytest = np_utils.to_categorical(ytest)\n",
    "num_classes = 10\n",
    "\n",
    "print 'Xtrain shape:', Xtrain.shape"
   ]
  },
  {
   "cell_type": "code",
   "execution_count": 5,
   "metadata": {
    "collapsed": false
   },
   "outputs": [
    {
     "data": {
      "text/plain": [
       "<matplotlib.image.AxesImage at 0x7f7e882c4150>"
      ]
     },
     "execution_count": 5,
     "metadata": {},
     "output_type": "execute_result"
    },
    {
     "data": {
      "image/png": "[encoded data removed]",
      "text/plain": [
       "<matplotlib.figure.Figure at 0x7f7e89394b90>"
      ]
     },
     "metadata": {},
     "output_type": "display_data"
    }
   ],
   "source": [
    "plt.imshow( Xtrain[np.random.randint( 0, Xtrain.shape[0]), 0, :, :] )"
   ]
  },
  {
   "cell_type": "code",
   "execution_count": 6,
   "metadata": {
    "collapsed": false
   },
   "outputs": [],
   "source": [
    "# create model\n",
    "def simpleModel():\n",
    "    model = Sequential()\n",
    "    model.add(Conv2D(32, (5, 5), input_shape=(1, 28, 28), activation='relu'))\n",
    "    model.add(MaxPooling2D(pool_size=(2,2)))\n",
    "    model.add(Dropout(0.5))\n",
    "    model.add(Flatten())\n",
    "    model.add(Dense(128, activation='relu'))\n",
    "    model.add(Dense(num_classes, activation='softmax'))\n",
    "\n",
    "    model.compile(loss='categorical_crossentropy', optimizer='adam', metrics=['accuracy'])\n",
    "    return model\n",
    "\n",
    "def largerModel():\n",
    "    model = Sequential()\n",
    "    model.add(Conv2D(30, (5, 5), input_shape=(1, 28, 28), activation='relu'))\n",
    "    model.add(MaxPooling2D(pool_size=(2,2)))\n",
    "    model.add(Conv2D(15, (3,3), activation='relu'))\n",
    "    model.add(MaxPooling2D(pool_size=(2,2)))\n",
    "    model.add(Dropout(0.2))\n",
    "    model.add(Flatten())\n",
    "    model.add(Dense(32*196, activation='relu'))\n",
    "    model.add(Dense(128, activation='relu'))\n",
    "    model.add(Dense(num_classes))\n",
    "    model.add(Activation('softmax'))\n",
    "    \n",
    "    model.compile(loss='categorical_crossentropy', optimizer='adadelta', metrics=['accuracy'])\n",
    "    return model"
   ]
  },
  {
   "cell_type": "code",
   "execution_count": 7,
   "metadata": {
    "collapsed": false,
    "scrolled": false
   },
   "outputs": [
    {
     "name": "stdout",
     "output_type": "stream",
     "text": [
      "Loading existing model\n"
     ]
    }
   ],
   "source": [
    "simple = simpleModel()\n",
    "\n",
    "WEIGHTS_NAME = 'mnist_cnn_simple.hdf'\n",
    "if os.path.exists(WEIGHTS_NAME):\n",
    "    print 'Loading existing model'\n",
    "    simple.load_weights(WEIGHTS_NAME)\n",
    "else:\n",
    "    simple.fit(Xtrain, ytrain, validation_data=(Xtest, ytest), epochs=10, batch_size=128)\n",
    "    simple.save_weights(WEIGHTS_NAME)"
   ]
  },
  {
   "cell_type": "code",
   "execution_count": 8,
   "metadata": {
    "collapsed": false
   },
   "outputs": [
    {
     "name": "stdout",
     "output_type": "stream",
     "text": [
      "Train on 60000 samples, validate on 10000 samples\n",
      "Epoch 1/10\n",
      "60000/60000 [==============================] - 142s - loss: 0.2710 - acc: 0.9120 - val_loss: 0.0586 - val_acc: 0.9824\n",
      "Epoch 2/10\n",
      "60000/60000 [==============================] - 139s - loss: 0.0693 - acc: 0.9786 - val_loss: 0.0406 - val_acc: 0.9861\n",
      "Epoch 3/10\n",
      "60000/60000 [==============================] - 142s - loss: 0.0525 - acc: 0.9831 - val_loss: 0.0401 - val_acc: 0.9864\n",
      "Epoch 4/10\n",
      "60000/60000 [==============================] - 141s - loss: 0.0428 - acc: 0.9866 - val_loss: 0.0296 - val_acc: 0.9911\n",
      "Epoch 5/10\n",
      "60000/60000 [==============================] - 141s - loss: 0.0367 - acc: 0.9881 - val_loss: 0.0259 - val_acc: 0.9911\n",
      "Epoch 6/10\n",
      "60000/60000 [==============================] - 156s - loss: 0.0305 - acc: 0.9904 - val_loss: 0.0249 - val_acc: 0.9907\n",
      "Epoch 7/10\n",
      "60000/60000 [==============================] - 155s - loss: 0.0284 - acc: 0.9910 - val_loss: 0.0242 - val_acc: 0.9911\n",
      "Epoch 8/10\n",
      "60000/60000 [==============================] - 156s - loss: 0.0254 - acc: 0.9918 - val_loss: 0.0257 - val_acc: 0.9910\n",
      "Epoch 9/10\n",
      "60000/60000 [==============================] - 153s - loss: 0.0235 - acc: 0.9920 - val_loss: 0.0227 - val_acc: 0.9920\n",
      "Epoch 10/10\n",
      "60000/60000 [==============================] - 154s - loss: 0.0206 - acc: 0.9929 - val_loss: 0.0210 - val_acc: 0.9921\n"
     ]
    }
   ],
   "source": [
    "large = largerModel()\n",
    "WEIGHTS_NAME = 'mnist_cnn_large.hdf'\n",
    "if os.path.exists(WEIGHTS_NAME):\n",
    "    print 'Loading existing model'\n",
    "    large.load_weights(WEIGHTS_NAME)\n",
    "else:\n",
    "    large.fit(Xtrain, ytrain, validation_data=(Xtest, ytest), epochs=10, batch_size=128)\n",
    "    large.save_weights(WEIGHTS_NAME)\n"
   ]
  },
  {
   "cell_type": "code",
   "execution_count": 11,
   "metadata": {
    "collapsed": false
   },
   "outputs": [
    {
     "name": "stdout",
     "output_type": "stream",
     "text": [
      "Test accuracy simple:  0.9899\n",
      "Test accuracy large:   0.9921\n"
     ]
    }
   ],
   "source": [
    "scoresSimple = simple.evaluate(Xtest, ytest, verbose=0)\n",
    "scoresLarge = large.evaluate(Xtest, ytest, verbose=0)\n",
    "print 'Test accuracy simple: ', scoresSimple[1]\n",
    "print 'Test accuracy large:  ', scoresLarge[1]"
   ]
  },
  {
   "cell_type": "code",
   "execution_count": 28,
   "metadata": {
    "collapsed": false
   },
   "outputs": [
    {
     "name": "stdout",
     "output_type": "stream",
     "text": [
      "(28, 28)\n",
      "(1, 1, 28, 28)\n",
      "Simple predicts 8\n",
      "Large predicts  6\n"
     ]
    },
    {
     "data": {
      "image/png": "[encoded data removed]",
      "text/plain": [
       "<matplotlib.figure.Figure at 0x7f7e50dd2d90>"
      ]
     },
     "metadata": {},
     "output_type": "display_data"
    }
   ],
   "source": [
    "import PIL.ImageOps\n",
    "\n",
    "img = PIL.Image.open('digit.jpg').convert('L')\n",
    "img = PIL.ImageOps.invert(img)\n",
    "img = np.asarray(img.resize((28, 28), PIL.Image.ANTIALIAS))\n",
    "print img.shape\n",
    "plt.imshow(img)\n",
    "\n",
    "img = img.reshape(1, 1, 28, 28).astype('float32')\n",
    "print img.shape\n",
    "\n",
    "print 'Simple predicts', np.argmax(simple.predict(img))\n",
    "print 'Large predicts ',np.argmax(large.predict(img))"
   ]
  },
  {
   "cell_type": "code",
   "execution_count": null,
   "metadata": {
    "collapsed": true
   },
   "outputs": [],
   "source": []
  }
 ],
 "metadata": {
  "kernelspec": {
   "display_name": "Python 2",
   "language": "python",
   "name": "python2"
  },
  "language_info": {
   "codemirror_mode": {
    "name": "ipython",
    "version": 2
   },
   "file_extension": ".py",
   "mimetype": "text/x-python",
   "name": "python",
   "nbconvert_exporter": "python",
   "pygments_lexer": "ipython2",
   "version": "2.7.12+"
  }
 },
 "nbformat": 4,
 "nbformat_minor": 1
}
