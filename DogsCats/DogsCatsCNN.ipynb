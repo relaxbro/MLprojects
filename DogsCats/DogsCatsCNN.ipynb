{
 "cells": [
  {
   "cell_type": "code",
   "execution_count": 1,
   "metadata": {
    "collapsed": false
   },
   "outputs": [
    {
     "name": "stderr",
     "output_type": "stream",
     "text": [
      "/usr/local/lib/python2.7/dist-packages/matplotlib/__init__.py:913: UserWarning: axes.color_cycle is deprecated and replaced with axes.prop_cycle; please use the latter.\n",
      "  warnings.warn(self.msg_depr % (key, alt_key))\n"
     ]
    },
    {
     "name": "stdout",
     "output_type": "stream",
     "text": [
      "keras backend:  tensorflow\n",
      "keras version:  2.0.0\n",
      "tensorflow version:  1.0.1\n"
     ]
    },
    {
     "name": "stderr",
     "output_type": "stream",
     "text": [
      "Using TensorFlow backend.\n"
     ]
    }
   ],
   "source": [
    "import os, sys, PIL, time, cv2, random\n",
    "import numpy as np\n",
    "np.random.seed(1234)\n",
    "import pandas as pd\n",
    "import matplotlib.pyplot as plt\n",
    "import seaborn as sns\n",
    "\n",
    "%matplotlib inline\n",
    "\n",
    "from tqdm import tqdm\n",
    "\n",
    "import tensorflow as tf\n",
    "import keras\n",
    "from keras import backend as K\n",
    "print 'keras backend: ', K._BACKEND\n",
    "print 'keras version: ', keras.__version__\n",
    "print 'tensorflow version: ', tf.__version__\n",
    "\n",
    "sess = tf.Session()\n",
    "K.set_session(sess)\n",
    "# fix input size in model for tensorflow\n",
    "K.set_image_dim_ordering('th')"
   ]
  },
  {
   "cell_type": "code",
   "execution_count": 2,
   "metadata": {
    "collapsed": false
   },
   "outputs": [],
   "source": [
    "from keras.models import Sequential\n",
    "from keras.layers import Dense, Dropout, Activation, Flatten, BatchNormalization, Input\n",
    "from keras.layers import Conv2D, MaxPooling2D\n",
    "from keras.utils import np_utils\n",
    "from keras.callbacks import LearningRateScheduler, Callback, EarlyStopping, ModelCheckpoint\n",
    "from keras.preprocessing.image import ImageDataGenerator"
   ]
  },
  {
   "cell_type": "code",
   "execution_count": 3,
   "metadata": {
    "collapsed": false
   },
   "outputs": [
    {
     "name": "stderr",
     "output_type": "stream",
     "text": [
      "  0%|          | 44/10000 [00:00<00:22, 439.39it/s]"
     ]
    },
    {
     "name": "stdout",
     "output_type": "stream",
     "text": [
      "Loading train data\n",
      "\n"
     ]
    },
    {
     "name": "stderr",
     "output_type": "stream",
     "text": [
      "  0%|          | 53/12500 [00:00<00:23, 523.08it/s]"
     ]
    },
    {
     "name": "stdout",
     "output_type": "stream",
     "text": [
      "Loading test data\n",
      "\n"
     ]
    },
    {
     "name": "stderr",
     "output_type": "stream",
     "text": [
      "                                                      "
     ]
    },
    {
     "name": "stdout",
     "output_type": "stream",
     "text": [
      "Xtrain shape: (10000, 3, 64, 64)\n",
      "Xtest shape: (12500, 3, 64, 64)\n"
     ]
    },
    {
     "name": "stderr",
     "output_type": "stream",
     "text": [
      "\r"
     ]
    }
   ],
   "source": [
    "DATAFOLDER = '%s/Documents/DogsCats/' %(os.path.expanduser('~'))\n",
    "WIDTH = 64\n",
    "HEIGHT = 64\n",
    "CHANNELS = 3\n",
    "\n",
    "train_images = [DATAFOLDER+'train/'+i for i in os.listdir(DATAFOLDER+'train/')]\n",
    "test_images = [DATAFOLDER+'test/'+i for i in os.listdir(DATAFOLDER+'test/')]\n",
    "train_dogs = [DATAFOLDER+'train/'+i for i in os.listdir(DATAFOLDER+'train/') if 'dog' in i]\n",
    "train_cats = [DATAFOLDER+'train/'+i for i in os.listdir(DATAFOLDER+'train/') if 'cat' in i]\n",
    "\n",
    "train_images = train_dogs[:5000] + train_cats[:5000]\n",
    "random.shuffle(train_images)\n",
    "#test_images = test_images[:25]\n",
    "\n",
    "\n",
    "def read_image(path):\n",
    "    img = cv2.imread(path, cv2.IMREAD_COLOR)\n",
    "    return cv2.resize(img, (WIDTH, HEIGHT), interpolation=cv2.INTER_CUBIC)\n",
    "\n",
    "def prepare_data(images):\n",
    "    count = len(images)\n",
    "    data = np.ndarray((count, CHANNELS, WIDTH, HEIGHT), dtype=np.float32)\n",
    "    print ''\n",
    "    for i, img_file in enumerate(tqdm(images)):\n",
    "        img = read_image(img_file)\n",
    "        data[i] = img.T / 255.0\n",
    "        #if i%1000 == 0:\n",
    "        #    print 'Processed %d of %d images' %(i, count)\n",
    "    return data\n",
    "\n",
    "print 'Loading train data'\n",
    "Xtrain = prepare_data(train_images)\n",
    "print 'Loading test data'\n",
    "Xtest = prepare_data(test_images)\n",
    "\n",
    "print 'Xtrain shape:', Xtrain.shape\n",
    "print 'Xtest shape:',  Xtest.shape"
   ]
  },
  {
   "cell_type": "code",
   "execution_count": 4,
   "metadata": {
    "collapsed": false
   },
   "outputs": [
    {
     "name": "stderr",
     "output_type": "stream",
     "text": [
      "/usr/local/lib/python2.7/dist-packages/matplotlib/__init__.py:938: UserWarning: axes.color_cycle is deprecated and replaced with axes.prop_cycle; please use the latter.\n",
      "  warnings.warn(self.msg_depr % (key, alt_key))\n"
     ]
    },
    {
     "data": {
      "text/plain": [
       "<matplotlib.text.Text at 0x7fc411e28c50>"
      ]
     },
     "execution_count": 4,
     "metadata": {},
     "output_type": "execute_result"
    },
    {
     "data": {
      "image/png": "[encoded data removed]",
      "text/plain": [
       "<matplotlib.figure.Figure at 0x7fc418acf710>"
      ]
     },
     "metadata": {},
     "output_type": "display_data"
    }
   ],
   "source": [
    "ytrain = []\n",
    "for i in train_images:\n",
    "    if ('dog' in i):\n",
    "        ytrain.append(1)\n",
    "    else:\n",
    "        ytrain.append(0)\n",
    "sns.countplot(ytrain)\n",
    "sns.plt.title('Cats vs Dogs')"
   ]
  },
  {
   "cell_type": "code",
   "execution_count": 5,
   "metadata": {
    "collapsed": true
   },
   "outputs": [],
   "source": [
    "def cnn():\n",
    "    model = Sequential()\n",
    "    \n",
    "    model.add(Conv2D(32, 3, 3, border_mode='same', input_shape=(CHANNELS, WIDTH, HEIGHT), activation='relu'))\n",
    "    model.add(Conv2D(32, 3, 3, border_mode='same', activation='relu'))\n",
    "    model.add(MaxPooling2D(pool_size=(2,2)))\n",
    "    model.add(Dropout(0.25))\n",
    "    model.add(Conv2D(64, 3, 3, border_mode='same', activation='relu'))\n",
    "    model.add(Conv2D(64, 3, 3, border_mode='same', activation='relu'))\n",
    "    model.add(MaxPooling2D(pool_size=(2,2)))\n",
    "    model.add(Dropout(0.25))\n",
    "    model.add(Conv2D(128, 3, 3, border_mode='same', activation='relu'))\n",
    "    model.add(Conv2D(128, 3, 3, border_mode='same', activation='relu'))\n",
    "    model.add(MaxPooling2D(pool_size=(2,2)))\n",
    "#     model.add(Dropout(0.25))\n",
    "#     model.add(Conv2D(256, 3, 3, border_mode='same', activation='relu'))\n",
    "#     model.add(Conv2D(256, 3, 3, border_mode='same', activation='relu'))\n",
    "#     model.add(MaxPooling2D(pool_size=(2,2)))\n",
    "\n",
    "    model.add(Flatten())\n",
    "    model.add(Dense(256, activation='relu'))\n",
    "    model.add(Dropout(0.5))\n",
    "    \n",
    "    model.add(Dense(1))\n",
    "    model.add(Activation('sigmoid'))\n",
    "    \n",
    "    model.compile(loss='binary_crossentropy', optimizer=keras.optimizers.RMSprop(), metrics=['accuracy'])\n",
    "    \n",
    "    model.summary()\n",
    "    return model"
   ]
  },
  {
   "cell_type": "code",
   "execution_count": 6,
   "metadata": {
    "collapsed": false
   },
   "outputs": [
    {
     "name": "stderr",
     "output_type": "stream",
     "text": [
      "/usr/local/lib/python2.7/dist-packages/keras/legacy/interfaces.py:86: UserWarning: Update your `Conv2D` call to the Keras 2 API: `Conv2D(32, (3, 3), padding=\"same\", activation=\"relu\", input_shape=(3, 64, 64...)`\n",
      "  '` call to the Keras 2 API: ' + signature)\n",
      "/usr/local/lib/python2.7/dist-packages/keras/legacy/interfaces.py:86: UserWarning: Update your `Conv2D` call to the Keras 2 API: `Conv2D(32, (3, 3), padding=\"same\", activation=\"relu\")`\n",
      "  '` call to the Keras 2 API: ' + signature)\n",
      "/usr/local/lib/python2.7/dist-packages/keras/legacy/interfaces.py:86: UserWarning: Update your `Conv2D` call to the Keras 2 API: `Conv2D(64, (3, 3), padding=\"same\", activation=\"relu\")`\n",
      "  '` call to the Keras 2 API: ' + signature)\n",
      "/usr/local/lib/python2.7/dist-packages/keras/legacy/interfaces.py:86: UserWarning: Update your `Conv2D` call to the Keras 2 API: `Conv2D(128, (3, 3), padding=\"same\", activation=\"relu\")`\n",
      "  '` call to the Keras 2 API: ' + signature)\n"
     ]
    },
    {
     "name": "stdout",
     "output_type": "stream",
     "text": [
      "_________________________________________________________________\n",
      "Layer (type)                 Output Shape              Param #   \n",
      "=================================================================\n",
      "conv2d_1 (Conv2D)            (None, 32, 64, 64)        896       \n",
      "_________________________________________________________________\n",
      "conv2d_2 (Conv2D)            (None, 32, 64, 64)        9248      \n",
      "_________________________________________________________________\n",
      "max_pooling2d_1 (MaxPooling2 (None, 32, 32, 32)        0         \n",
      "_________________________________________________________________\n",
      "dropout_1 (Dropout)          (None, 32, 32, 32)        0         \n",
      "_________________________________________________________________\n",
      "conv2d_3 (Conv2D)            (None, 64, 32, 32)        18496     \n",
      "_________________________________________________________________\n",
      "conv2d_4 (Conv2D)            (None, 64, 32, 32)        36928     \n",
      "_________________________________________________________________\n",
      "max_pooling2d_2 (MaxPooling2 (None, 64, 16, 16)        0         \n",
      "_________________________________________________________________\n",
      "dropout_2 (Dropout)          (None, 64, 16, 16)        0         \n",
      "_________________________________________________________________\n",
      "conv2d_5 (Conv2D)            (None, 128, 16, 16)       73856     \n",
      "_________________________________________________________________\n",
      "conv2d_6 (Conv2D)            (None, 128, 16, 16)       147584    \n",
      "_________________________________________________________________\n",
      "max_pooling2d_3 (MaxPooling2 (None, 128, 8, 8)         0         \n",
      "_________________________________________________________________\n",
      "flatten_1 (Flatten)          (None, 8192)              0         \n",
      "_________________________________________________________________\n",
      "dense_1 (Dense)              (None, 256)               2097408   \n",
      "_________________________________________________________________\n",
      "dropout_3 (Dropout)          (None, 256)               0         \n",
      "_________________________________________________________________\n",
      "dense_2 (Dense)              (None, 1)                 257       \n",
      "_________________________________________________________________\n",
      "activation_1 (Activation)    (None, 1)                 0         \n",
      "=================================================================\n",
      "Total params: 2,384,673.0\n",
      "Trainable params: 2,384,673.0\n",
      "Non-trainable params: 0.0\n",
      "_________________________________________________________________\n"
     ]
    }
   ],
   "source": [
    "model = cnn()"
   ]
  },
  {
   "cell_type": "code",
   "execution_count": 7,
   "metadata": {
    "collapsed": false
   },
   "outputs": [],
   "source": [
    "class LossHistory(Callback):\n",
    "    def on_train_begin(self, logs={}):\n",
    "        self.losses = []\n",
    "        self.val_losses = []\n",
    "    def on_epoch_end(self, batcj, logs={}):\n",
    "        self.losses.append(logs.get('loss'))\n",
    "        self.val_losses.append(logs.get('val_loss'))\n",
    "\n",
    "def run_cnn(Xtrain, ytrain, epochs=1):\n",
    "    history = model.fit(Xtrain, ytrain, batch_size=64, epochs=epochs, validation_split=0.1)\n",
    "    #history = model.fit(Xtrain, ytrain, batch_size=64, epochs=epochs, validation_split=0.2, \n",
    "    #          callbacks=[EarlyStopping(monitor='val_losses', patience=0, verbose=1)])\n",
    "    #ypred = model.predict(Xtest)\n",
    "    return history\n",
    "\n",
    "def run_pred(Xtest):\n",
    "    return model.predict(Xtest, verbose=1)\n"
   ]
  },
  {
   "cell_type": "code",
   "execution_count": 8,
   "metadata": {
    "collapsed": false
   },
   "outputs": [
    {
     "name": "stdout",
     "output_type": "stream",
     "text": [
      "Train on 9000 samples, validate on 1000 samples\n",
      "Epoch 1/10\n",
      "9000/9000 [==============================] - 517s - loss: 0.7274 - acc: 0.4943 - val_loss: 0.6900 - val_acc: 0.5250\n",
      "Epoch 2/10\n",
      "9000/9000 [==============================] - 526s - loss: 0.6984 - acc: 0.5620 - val_loss: 0.6708 - val_acc: 0.5850\n",
      "Epoch 3/10\n",
      "9000/9000 [==============================] - 516s - loss: 0.6606 - acc: 0.6136 - val_loss: 0.6499 - val_acc: 0.6280\n",
      "Epoch 4/10\n",
      "9000/9000 [==============================] - 549s - loss: 0.6133 - acc: 0.6729 - val_loss: 0.5906 - val_acc: 0.6860\n",
      "Epoch 5/10\n",
      "9000/9000 [==============================] - 473s - loss: 0.5715 - acc: 0.7082 - val_loss: 0.5770 - val_acc: 0.6820\n",
      "Epoch 6/10\n",
      "9000/9000 [==============================] - 440s - loss: 0.5327 - acc: 0.7371 - val_loss: 0.5238 - val_acc: 0.7450\n",
      "Epoch 7/10\n",
      "9000/9000 [==============================] - 441s - loss: 0.5054 - acc: 0.7570 - val_loss: 0.5290 - val_acc: 0.7490\n",
      "Epoch 8/10\n",
      "9000/9000 [==============================] - 444s - loss: 0.4735 - acc: 0.7753 - val_loss: 0.4422 - val_acc: 0.7860\n",
      "Epoch 9/10\n",
      "9000/9000 [==============================] - 431s - loss: 0.4404 - acc: 0.7971 - val_loss: 0.4608 - val_acc: 0.7820\n",
      "Epoch 10/10\n",
      "9000/9000 [==============================] - 421s - loss: 0.4139 - acc: 0.8152 - val_loss: 0.4637 - val_acc: 0.7800\n"
     ]
    }
   ],
   "source": [
    "\n",
    "ytraincategorical = np_utils.to_categorical(ytrain)\n",
    "history = run_cnn(Xtrain, ytrain, epochs=10)"
   ]
  },
  {
   "cell_type": "code",
   "execution_count": 9,
   "metadata": {
    "collapsed": false
   },
   "outputs": [
    {
     "data": {
      "image/png": "[encoded data removed]",
      "text/plain": [
       "<matplotlib.figure.Figure at 0x7fc409f4a890>"
      ]
     },
     "metadata": {},
     "output_type": "display_data"
    }
   ],
   "source": [
    "fig, ax = plt.subplots(1, 2, figsize=(15, 5))\n",
    "\n",
    "ax[0].plot(history.history['loss'], label='train')\n",
    "ax[0].plot(history.history['val_loss'], label='val')\n",
    "#plt.yscale('log')\n",
    "ax[0].set_title('Loss history')\n",
    "ax[0].set_xlabel('Epoch')\n",
    "ax[0].set_ylabel('Loss')\n",
    "ax[0].legend(loc='best')\n",
    "\n",
    "ax[1].plot(history.history['acc'], label='train')\n",
    "ax[1].plot(history.history['val_acc'], label='val')\n",
    "#plt.yscale('log')\n",
    "ax[1].set_title('Accuracy history')\n",
    "ax[1].set_xlabel('Epoch')\n",
    "ax[1].set_ylabel('Accuracy')\n",
    "ax[1].legend(loc='best')\n",
    "plt.show()"
   ]
  },
  {
   "cell_type": "code",
   "execution_count": 10,
   "metadata": {
    "collapsed": false
   },
   "outputs": [
    {
     "name": "stdout",
     "output_type": "stream",
     "text": [
      "12500/12500 [==============================] - 285s   "
     ]
    },
    {
     "name": "stderr",
     "output_type": "stream",
     "text": [
      "                                         "
     ]
    },
    {
     "name": "stdout",
     "output_type": "stream",
     "text": [
      "\n",
      "[[ 0.02606579]\n",
      " [ 0.25272709]\n",
      " [ 0.84506834]\n",
      " [ 0.06816132]\n",
      " [ 0.08418647]\n",
      " [ 0.19521561]\n",
      " [ 0.7127732 ]\n",
      " [ 0.44752935]\n",
      " [ 0.94788802]\n",
      " [ 0.12210202]]\n"
     ]
    },
    {
     "name": "stderr",
     "output_type": "stream",
     "text": [
      "\r"
     ]
    }
   ],
   "source": [
    "ypred = run_pred(Xtest)\n",
    "print ypred[:10]\n",
    "with open('submission.csv', 'w') as f:\n",
    "    f.write('id,label\\n')\n",
    "    for i in tqdm(range(len(ypred))):\n",
    "        f.write('%d,%f\\n' %(i+1, ypred[[i]]))"
   ]
  },
  {
   "cell_type": "code",
   "execution_count": null,
   "metadata": {
    "collapsed": true
   },
   "outputs": [],
   "source": []
  }
 ],
 "metadata": {
  "kernelspec": {
   "display_name": "Python 2",
   "language": "python",
   "name": "python2"
  },
  "language_info": {
   "codemirror_mode": {
    "name": "ipython",
    "version": 2
   },
   "file_extension": ".py",
   "mimetype": "text/x-python",
   "name": "python",
   "nbconvert_exporter": "python",
   "pygments_lexer": "ipython2",
   "version": "2.7.12+"
  }
 },
 "nbformat": 4,
 "nbformat_minor": 1
}
